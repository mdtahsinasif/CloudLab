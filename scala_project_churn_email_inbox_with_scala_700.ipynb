{
 "cells": [
  {
   "cell_type": "code",
   "execution_count": 4,
   "metadata": {},
   "outputs": [
    {
     "data": {
      "text/plain": [
       "number_of_lines: ()Int\n"
      ]
     },
     "metadata": {},
     "output_type": "display_data"
    }
   ],
   "source": [
    "import scala.io.Source\n",
    "\n",
    "def number_of_lines() : Int = {\n",
    "    var a = 0\n",
    "    val filename = \"/cxldata/datasets/project/mbox-short.txt\"\n",
    "    for (line <- Source.fromFile(filename).getLines) {\n",
    "        a = a + 1\n",
    "    }\n",
    "    return(a)\n",
    "}"
   ]
  },
  {
   "cell_type": "code",
   "execution_count": 5,
   "metadata": {},
   "outputs": [
    {
     "data": {
      "text/plain": [
       "1910"
      ]
     },
     "execution_count": 5,
     "metadata": {},
     "output_type": "execute_result"
    }
   ],
   "source": [
    "number_of_lines()"
   ]
  },
  {
   "cell_type": "code",
   "execution_count": 12,
   "metadata": {},
   "outputs": [
    {
     "data": {
      "text/plain": [
       "count_subject_lines: ()Int\n"
      ]
     },
     "metadata": {},
     "output_type": "display_data"
    }
   ],
   "source": [
    "def count_subject_lines() : Int = {\n",
    "    var countLines = 0\n",
    "    val filename = \"/cxldata/datasets/project/mbox-short.txt\"\n",
    "    for (line <- Source.fromFile(filename).getLines) {\n",
    "        if (line.startsWith(\"From:\")) {\n",
    "            countLines = countLines + 1\n",
    "        }\n",
    "    }\n",
    "    return(countLines)\n",
    "}"
   ]
  },
  {
   "cell_type": "code",
   "execution_count": 11,
   "metadata": {},
   "outputs": [
    {
     "name": "stdout",
     "output_type": "stream",
     "text": [
      "27\n"
     ]
    },
    {
     "data": {
      "text/plain": [
       "output = 27\n"
      ]
     },
     "metadata": {},
     "output_type": "display_data"
    },
    {
     "data": {
      "text/plain": [
       "27"
      ]
     },
     "execution_count": 11,
     "metadata": {},
     "output_type": "execute_result"
    }
   ],
   "source": [
    "var output = count_subject_lines()\n",
    "println(output)"
   ]
  },
  {
   "cell_type": "code",
   "execution_count": 16,
   "metadata": {},
   "outputs": [
    {
     "data": {
      "text/plain": [
       "average_spam_confidence: ()Float\n"
      ]
     },
     "metadata": {},
     "output_type": "display_data"
    }
   ],
   "source": [
    "import scala.io.Source\n",
    "\n",
    "def average_spam_confidence() : Float =  {\n",
    "    val filename = \"/cxldata/datasets/project/mbox-short.txt\"\n",
    "    var splittedLineContent = new Array[String](0)\n",
    "    var spamConf:Float = 0\n",
    "    var spamCnt:Int = 0\n",
    "\n",
    "    for (line <- Source.fromFile(filename).getLines) {\n",
    "        if (line.startsWith(\"X-DSPAM-Confidence:\")) {\n",
    "            splittedLineContent = line.split(\": \")\n",
    "            spamConf = spamConf + (splittedLineContent(1).toFloat)\n",
    "            spamCnt = spamCnt + 1\n",
    "        }\n",
    "    }\n",
    "    return(spamConf/spamCnt)\n",
    "}"
   ]
  },
  {
   "cell_type": "code",
   "execution_count": 17,
   "metadata": {},
   "outputs": [
    {
     "data": {
      "text/plain": [
       "find_email_sent_days: ()scala.collection.mutable.Map[String,Int]\n"
      ]
     },
     "metadata": {},
     "output_type": "display_data"
    }
   ],
   "source": [
    "import scala.io.Source\n",
    "import scala.collection.mutable.Map\n",
    "\n",
    "\n",
    "def find_email_sent_days() : Map[String, Int] = {\n",
    "   val filepath = \"/cxldata/datasets/project/mbox-short.txt\"\n",
    "   var daysMap = Map[String, Int]()\n",
    "   var splittedLineContent = new Array[String](0)\n",
    "   var day = \"\"\n",
    "\n",
    "   for (line <- Source.fromFile(filepath).getLines) {  \n",
    "       if (line.startsWith(\"From\")) {\n",
    "           splittedLineContent = line.split(\" \")\n",
    "           if (splittedLineContent.size > 3) {\n",
    "               day = splittedLineContent(2)\n",
    "               if (daysMap.contains(day)) {\n",
    "                   daysMap(day) += 1\n",
    "               }\n",
    "               else {\n",
    "                   daysMap(day) = 1\n",
    "               }\n",
    "           }\n",
    "       }\n",
    "   }\n",
    "  return(daysMap)\n",
    "}"
   ]
  },
  {
   "cell_type": "code",
   "execution_count": 18,
   "metadata": {},
   "outputs": [
    {
     "data": {
      "text/plain": [
       "count_message_from_email: ()scala.collection.mutable.Map[String,Int]\n"
      ]
     },
     "metadata": {},
     "output_type": "display_data"
    }
   ],
   "source": [
    "import scala.io.Source\n",
    "import scala.collection.mutable.Map\n",
    "\n",
    "\n",
    "def count_message_from_email() : Map[String, Int] = {\n",
    "    val filepath = \"/cxldata/datasets/project/mbox-short.txt\"\n",
    "    var emailMap = Map[String, Int]()\n",
    "    var splittedLineContent = new Array[String](0)\n",
    "    var email = \"\"\n",
    "\n",
    "    for (line <- Source.fromFile(filepath).getLines) {\n",
    "        if (line.startsWith(\"From:\")) {\n",
    "            splittedLineContent = line.split(\" \")\n",
    "            email = splittedLineContent(1)\n",
    "            if (emailMap.contains(email)) {\n",
    "                emailMap(email) += 1\n",
    "            }\n",
    "            else {\n",
    "                emailMap(email) = 1\n",
    "            }\n",
    "        }\n",
    "    }\n",
    "    return(emailMap)\n",
    "}"
   ]
  },
  {
   "cell_type": "code",
   "execution_count": 19,
   "metadata": {},
   "outputs": [
    {
     "data": {
      "text/plain": [
       "count_message_from_domain: ()scala.collection.mutable.Map[String,Int]\n"
      ]
     },
     "metadata": {},
     "output_type": "display_data"
    }
   ],
   "source": [
    "import scala.io.Source\n",
    "import scala.collection.mutable.Map\n",
    "\n",
    "\n",
    "def count_message_from_domain() : Map[String, Int] = {\n",
    "    val filepath = \"/cxldata/datasets/project/mbox-short.txt\"\n",
    "    var domainMap = Map[String, Int]()\n",
    "    var splittedLineContent = new Array[String](0)\n",
    "    var email = \"\"\n",
    "    var splittedEmailContent = new Array[String](0)\n",
    "    var domain = \"\"\n",
    "\n",
    "    for (line <- Source.fromFile(filepath).getLines) {\n",
    "        if (line.startsWith(\"From:\")) {\n",
    "            splittedLineContent = line.split(\" \")\n",
    "            email = splittedLineContent(1)\n",
    "            splittedEmailContent = email.split(\"@\")\n",
    "            domain = splittedEmailContent(1)\n",
    "            if (domainMap.contains(domain)) {\n",
    "                domainMap(domain) += 1\n",
    "            }\n",
    "            else {\n",
    "                domainMap(domain) = 1\n",
    "            }\n",
    "        }\n",
    "    }\n",
    "    return(domainMap)\n",
    "}"
   ]
  },
  {
   "cell_type": "code",
   "execution_count": null,
   "metadata": {},
   "outputs": [],
   "source": []
  }
 ],
 "metadata": {
  "kernelspec": {
   "display_name": "Apache Toree - Scala",
   "language": "scala",
   "name": "apache_toree_scala"
  },
  "language_info": {
   "codemirror_mode": "text/x-scala",
   "file_extension": ".scala",
   "mimetype": "text/x-scala",
   "name": "scala",
   "pygments_lexer": "scala",
   "version": "2.11.8"
  },
  "toc": {
   "base_numbering": 1,
   "nav_menu": {},
   "number_sections": true,
   "sideBar": true,
   "skip_h1_title": false,
   "title_cell": "Table of Contents",
   "title_sidebar": "Contents",
   "toc_cell": false,
   "toc_position": {},
   "toc_section_display": true,
   "toc_window_display": false
  }
 },
 "nbformat": 4,
 "nbformat_minor": 2
}
